{
  "nbformat": 4,
  "nbformat_minor": 0,
  "metadata": {
    "colab": {
      "provenance": []
    },
    "kernelspec": {
      "name": "python3",
      "display_name": "Python 3"
    },
    "language_info": {
      "name": "python"
    }
  },
  "cells": [
    {
      "cell_type": "code",
      "execution_count": 1,
      "metadata": {
        "id": "tgOtnNdICRxv"
      },
      "outputs": [],
      "source": [
        "import numpy as np"
      ]
    },
    {
      "cell_type": "markdown",
      "source": [
        "Forward Propagation"
      ],
      "metadata": {
        "id": "Fjg95jOIJT_l"
      }
    },
    {
      "cell_type": "code",
      "source": [
        "input_data = np.array([3, 5], dtype=float)\n",
        "\n",
        "print(input_data)"
      ],
      "metadata": {
        "colab": {
          "base_uri": "https://localhost:8080/"
        },
        "id": "54BK0SlMFYFd",
        "outputId": "a238fb5f-6c1b-4a38-bea9-be0204448904"
      },
      "execution_count": 2,
      "outputs": [
        {
          "output_type": "stream",
          "name": "stdout",
          "text": [
            "[3. 5.]\n"
          ]
        }
      ]
    },
    {
      "cell_type": "code",
      "source": [
        "weights = {'node_0': np.array([2, 4]), 'node_1': np.array([ 4, -5]), 'output': np.array([2, 7])}\n",
        "\n",
        "print(weights)"
      ],
      "metadata": {
        "colab": {
          "base_uri": "https://localhost:8080/"
        },
        "id": "1LIaqZv4Fnfs",
        "outputId": "992950cf-04eb-4b5c-c42a-b2a9d554257d"
      },
      "execution_count": 3,
      "outputs": [
        {
          "output_type": "stream",
          "name": "stdout",
          "text": [
            "{'node_0': array([2, 4]), 'node_1': array([ 4, -5]), 'output': array([2, 7])}\n"
          ]
        }
      ]
    },
    {
      "cell_type": "code",
      "source": [
        "layer_0 = (input_data * weights['node_0']).sum()\n",
        "\n",
        "print(f\"layer_0 : {layer_0}\")"
      ],
      "metadata": {
        "colab": {
          "base_uri": "https://localhost:8080/"
        },
        "id": "5JWxiKxZG0z0",
        "outputId": "be981aff-0de0-4466-d868-42717a4a673e"
      },
      "execution_count": 4,
      "outputs": [
        {
          "output_type": "stream",
          "name": "stdout",
          "text": [
            "layer_0 : 26.0\n"
          ]
        }
      ]
    },
    {
      "cell_type": "code",
      "source": [
        "layer_1 = (input_data * weights['node_1']).sum()\n",
        "\n",
        "print(f\"layer_1 : {layer_1}\")"
      ],
      "metadata": {
        "colab": {
          "base_uri": "https://localhost:8080/"
        },
        "id": "QwbB2ltxHmf4",
        "outputId": "d5190967-0d03-418f-81ab-48965807f6f3"
      },
      "execution_count": 5,
      "outputs": [
        {
          "output_type": "stream",
          "name": "stdout",
          "text": [
            "layer_1 : -13.0\n"
          ]
        }
      ]
    },
    {
      "cell_type": "code",
      "source": [
        "hidden_layer_0 = np.array([layer_0, layer_1])\n",
        "\n",
        "output_layer = (hidden_layer_0 * weights['output']).sum()\n",
        "\n",
        "print(output_layer)"
      ],
      "metadata": {
        "colab": {
          "base_uri": "https://localhost:8080/"
        },
        "id": "oUmYwgEIHt0Y",
        "outputId": "a7d842aa-efcd-441c-b3ba-c741de54cc0b"
      },
      "execution_count": 6,
      "outputs": [
        {
          "output_type": "stream",
          "name": "stdout",
          "text": [
            "-39.0\n"
          ]
        }
      ]
    },
    {
      "cell_type": "code",
      "source": [
        "def relu(num):\n",
        "  return max(0, num)"
      ],
      "metadata": {
        "id": "m7Zma4RxCuDF"
      },
      "execution_count": 7,
      "outputs": []
    },
    {
      "cell_type": "code",
      "source": [
        "layer_0 = (input_data * weights['node_0']).sum()\n",
        "layer_0 = relu(layer_0)\n",
        "print(layer_0)"
      ],
      "metadata": {
        "colab": {
          "base_uri": "https://localhost:8080/"
        },
        "id": "LkL0jTSmIKNP",
        "outputId": "b5f6d797-26bc-49fe-feb5-8008f8776c35"
      },
      "execution_count": 8,
      "outputs": [
        {
          "output_type": "stream",
          "name": "stdout",
          "text": [
            "26.0\n"
          ]
        }
      ]
    },
    {
      "cell_type": "code",
      "source": [
        "layer_1 = (input_data * weights['node_1']).sum()\n",
        "layer_1 = relu(layer_1)\n",
        "print(layer_1)"
      ],
      "metadata": {
        "colab": {
          "base_uri": "https://localhost:8080/"
        },
        "id": "n7JHN0SpIUEA",
        "outputId": "2f3f19b0-9b01-4c09-f721-b6115a227d01"
      },
      "execution_count": 9,
      "outputs": [
        {
          "output_type": "stream",
          "name": "stdout",
          "text": [
            "0\n"
          ]
        }
      ]
    },
    {
      "cell_type": "code",
      "source": [
        "hidden_layer_0 = np.array([layer_0, layer_1])\n",
        "\n",
        "output_layer = (hidden_layer_0 * weights['output']).sum()\n",
        "\n",
        "print(output_layer)"
      ],
      "metadata": {
        "colab": {
          "base_uri": "https://localhost:8080/"
        },
        "id": "mRx6GmvYIY0R",
        "outputId": "f86c5218-4250-4ca7-8274-3fefebf5fcc0"
      },
      "execution_count": 10,
      "outputs": [
        {
          "output_type": "stream",
          "name": "stdout",
          "text": [
            "52.0\n"
          ]
        }
      ]
    },
    {
      "cell_type": "markdown",
      "source": [
        "More Layer"
      ],
      "metadata": {
        "id": "D4SZcMWTJQpf"
      }
    },
    {
      "cell_type": "code",
      "source": [
        "weights = {'node_0_0': np.array([2, 4]),\n",
        "           'node_0_1': np.array([ 4, -5]),\n",
        "           'node_1_0': np.array([-1,  2]),\n",
        "           'node_1_1': np.array([1, 2]),\n",
        "           'output': np.array([2, 7])\n",
        "          }\n",
        "\n",
        "print(weights)"
      ],
      "metadata": {
        "colab": {
          "base_uri": "https://localhost:8080/"
        },
        "id": "t68ZhCIYJJAp",
        "outputId": "fe6c885c-6b50-4d66-b6cc-4e2d861cabb0"
      },
      "execution_count": 11,
      "outputs": [
        {
          "output_type": "stream",
          "name": "stdout",
          "text": [
            "{'node_0_0': array([2, 4]), 'node_0_1': array([ 4, -5]), 'node_1_0': array([-1,  2]), 'node_1_1': array([1, 2]), 'output': array([2, 7])}\n"
          ]
        }
      ]
    },
    {
      "cell_type": "code",
      "source": [
        "layer_00 = relu((input_data * weights['node_0_0']).sum())\n",
        "layer_01 = relu((input_data * weights['node_0_1']).sum())\n",
        "\n",
        "layer_0 = np.array([layer_00, layer_01])\n",
        "print(layer_0)"
      ],
      "metadata": {
        "colab": {
          "base_uri": "https://localhost:8080/"
        },
        "id": "89SgInbSKePp",
        "outputId": "9c83ceb9-da0d-462d-b6bb-2b999dd3e02f"
      },
      "execution_count": 12,
      "outputs": [
        {
          "output_type": "stream",
          "name": "stdout",
          "text": [
            "[26.  0.]\n"
          ]
        }
      ]
    },
    {
      "cell_type": "code",
      "source": [
        "layer_10 = relu((layer_0 * weights['node_1_0']).sum())\n",
        "layer_11 = relu((layer_0 * weights['node_1_1']).sum())\n",
        "\n",
        "layer_1 = np.array([layer_10, layer_11])\n",
        "print(layer_1)"
      ],
      "metadata": {
        "colab": {
          "base_uri": "https://localhost:8080/"
        },
        "id": "Mn9bSULtaWvp",
        "outputId": "460008bd-1f9a-43bd-def9-5938a311e203"
      },
      "execution_count": 13,
      "outputs": [
        {
          "output_type": "stream",
          "name": "stdout",
          "text": [
            "[ 0. 26.]\n"
          ]
        }
      ]
    },
    {
      "cell_type": "code",
      "source": [
        "output = (layer_1 * weights['output']).sum()\n",
        "\n",
        "print(output)"
      ],
      "metadata": {
        "colab": {
          "base_uri": "https://localhost:8080/"
        },
        "id": "8Tk0xK0Oav5I",
        "outputId": "14d0492a-e207-4bff-94ee-7d9b38a4e2e8"
      },
      "execution_count": 14,
      "outputs": [
        {
          "output_type": "stream",
          "name": "stdout",
          "text": [
            "182.0\n"
          ]
        }
      ]
    },
    {
      "cell_type": "markdown",
      "source": [
        "Backward Prop"
      ],
      "metadata": {
        "id": "TDtQFyTibWfn"
      }
    },
    {
      "cell_type": "code",
      "source": [
        "input_data = np.array([0, 3])\n",
        "\n",
        "weights_0 = {'node_0': [2, 1], 'node_1': [1, 2], 'output': [1, 1]}\n",
        "\n",
        "target_actual = 3"
      ],
      "metadata": {
        "id": "B2Or61VdbX9U"
      },
      "execution_count": 15,
      "outputs": []
    },
    {
      "cell_type": "code",
      "source": [
        "layer_0 = relu((input_data * weights_0['node_0']).sum())\n",
        "\n",
        "layer_1 = relu((input_data * weights_0['node_1']).sum())\n",
        "\n",
        "hidden_layer = np.array([layer_0, layer_1])\n",
        "\n",
        "output_0 = (hidden_layer * weights_0['output']).sum()\n",
        "\n",
        "print(output_0)"
      ],
      "metadata": {
        "colab": {
          "base_uri": "https://localhost:8080/"
        },
        "id": "_IbCbkFUbhJ3",
        "outputId": "6181d56e-a1e7-4e63-b3ff-cc5759626009"
      },
      "execution_count": 16,
      "outputs": [
        {
          "output_type": "stream",
          "name": "stdout",
          "text": [
            "9\n"
          ]
        }
      ]
    },
    {
      "cell_type": "code",
      "source": [
        "error_0 = output_0 - target_actual\n",
        "\n",
        "print(error_0)"
      ],
      "metadata": {
        "colab": {
          "base_uri": "https://localhost:8080/"
        },
        "id": "f3nsiuvBb4_M",
        "outputId": "69165a41-cff8-4b53-eeee-4df84dabc622"
      },
      "execution_count": 17,
      "outputs": [
        {
          "output_type": "stream",
          "name": "stdout",
          "text": [
            "6\n"
          ]
        }
      ]
    },
    {
      "cell_type": "code",
      "source": [
        "weights_1 = {'node_0': [2, 1], 'node_1': [1, 2], 'output': [1, 0]}"
      ],
      "metadata": {
        "id": "M4RDA3NccAVs"
      },
      "execution_count": 18,
      "outputs": []
    },
    {
      "cell_type": "code",
      "source": [
        "layer_0 = relu((input_data * weights_1['node_0']).sum())\n",
        "\n",
        "layer_1 = relu((input_data * weights_1['node_1']).sum())\n",
        "\n",
        "hidden_layer = np.array([layer_0, layer_1])\n",
        "\n",
        "output_1 = (hidden_layer * weights_1['output']).sum()\n",
        "\n",
        "print(output_1)"
      ],
      "metadata": {
        "colab": {
          "base_uri": "https://localhost:8080/"
        },
        "id": "rz3N4BuBcQSF",
        "outputId": "e48e48b0-a288-44a4-8fcf-46e41bc08462"
      },
      "execution_count": 19,
      "outputs": [
        {
          "output_type": "stream",
          "name": "stdout",
          "text": [
            "3\n"
          ]
        }
      ]
    },
    {
      "cell_type": "code",
      "source": [
        "error_1 = output_1 - target_actual\n",
        "\n",
        "print(error_1)"
      ],
      "metadata": {
        "colab": {
          "base_uri": "https://localhost:8080/"
        },
        "id": "-0hxBRhtcXCB",
        "outputId": "088ed149-f387-492e-b2ee-72e503d95934"
      },
      "execution_count": 20,
      "outputs": [
        {
          "output_type": "stream",
          "name": "stdout",
          "text": [
            "0\n"
          ]
        }
      ]
    },
    {
      "cell_type": "code",
      "source": [
        "def predict_with_network(input_data, weight):\n",
        "  layer_0 = relu((input_data * weight['node_0']).sum())\n",
        "  layer_1 = relu((input_data * weight['node_1']).sum())\n",
        "  hidden_layer = np.array([layer_0, layer_1])\n",
        "  output = (hidden_layer * weight['output']).sum()\n",
        "  return output"
      ],
      "metadata": {
        "id": "MJpP-ibNdaL6"
      },
      "execution_count": 21,
      "outputs": []
    },
    {
      "cell_type": "code",
      "source": [
        "input_data = [np.array([0, 3]), np.array([1, 2]), np.array([-1, -2]), np.array([4, 0])]\n",
        "target_actuals = [1, 3, 5, 7]\n",
        "weights_1 = {'node_0': [2, 1], 'node_1': [1, 1.5], 'output': [1, 1.5]}\n",
        "\n",
        "from sklearn.metrics import mean_squared_error\n",
        "\n",
        "model_output_0 = []\n",
        "\n",
        "model_output_1 = []\n",
        "\n",
        "for row in input_data:\n",
        "    model_output_0.append(predict_with_network(row, weights_0))\n",
        "    \n",
        "    model_output_1.append(predict_with_network(row, weights_1))\n",
        "\n",
        "mse_0 = mean_squared_error(target_actuals, model_output_0)\n",
        "\n",
        "mse_1 = mean_squared_error(target_actuals, model_output_1)\n",
        "\n",
        "print(\"Mean squared error with weights_0: %f\" %mse_0)\n",
        "print(\"Mean squared error with weights_1: %f\" %mse_1)"
      ],
      "metadata": {
        "colab": {
          "base_uri": "https://localhost:8080/"
        },
        "id": "Fouk9J3Gcq2D",
        "outputId": "9c719c70-d505-455f-afbd-bab7ac4f0979"
      },
      "execution_count": 22,
      "outputs": [
        {
          "output_type": "stream",
          "name": "stdout",
          "text": [
            "Mean squared error with weights_0: 37.500000\n",
            "Mean squared error with weights_1: 49.890625\n"
          ]
        }
      ]
    },
    {
      "cell_type": "markdown",
      "source": [
        "Gradient Descent"
      ],
      "metadata": {
        "id": "0GjMx8lveFuE"
      }
    },
    {
      "cell_type": "code",
      "source": [
        "weights = np.array([0, 2, 1])\n",
        "\n",
        "inputs = np.array([1, 2, 3])\n",
        "\n",
        "target = 0\n",
        "\n",
        "preds = (weights * inputs).sum()\n",
        "\n",
        "print(preds)"
      ],
      "metadata": {
        "colab": {
          "base_uri": "https://localhost:8080/"
        },
        "id": "Uot4cstxeGrG",
        "outputId": "aee18d2d-f5a3-42e3-9d1f-03a6d54687c2"
      },
      "execution_count": 23,
      "outputs": [
        {
          "output_type": "stream",
          "name": "stdout",
          "text": [
            "7\n"
          ]
        }
      ]
    },
    {
      "cell_type": "code",
      "source": [
        "error = preds - target\n",
        "\n",
        "slope = 2 * inputs * error\n",
        "\n",
        "print(slope)"
      ],
      "metadata": {
        "colab": {
          "base_uri": "https://localhost:8080/"
        },
        "id": "olVQnqSmekik",
        "outputId": "70254cb4-7a5b-4a34-9310-0c1d6a1fbeb7"
      },
      "execution_count": 24,
      "outputs": [
        {
          "output_type": "stream",
          "name": "stdout",
          "text": [
            "[14 28 42]\n"
          ]
        }
      ]
    },
    {
      "cell_type": "code",
      "source": [
        "learning_rate = 0.01\n",
        "\n",
        "preds = (weights * inputs).sum()\n",
        "\n",
        "error = preds - target\n",
        "\n",
        "slope = 2 * inputs * error\n",
        "\n",
        "weights_updated = weights - learning_rate * slope\n",
        "\n",
        "preds_updated = (weights_updated * inputs).sum()\n",
        "\n",
        "error_updated = preds_updated - target\n",
        "\n",
        "print(error)\n",
        "\n",
        "print(error_updated)"
      ],
      "metadata": {
        "colab": {
          "base_uri": "https://localhost:8080/"
        },
        "id": "jYc3TTkQeqZF",
        "outputId": "a539a507-d012-41bc-86a3-8f2f014af77f"
      },
      "execution_count": 25,
      "outputs": [
        {
          "output_type": "stream",
          "name": "stdout",
          "text": [
            "7\n",
            "5.04\n"
          ]
        }
      ]
    },
    {
      "cell_type": "code",
      "source": [
        "epochs = 20\n",
        "\n",
        "mse_hist = []\n",
        "\n",
        "learning_rate = 0.01\n",
        "\n",
        "weights = [0, 2, 1]\n",
        "\n",
        "input_data = np.array([1, 2, 3])\n",
        "\n",
        "target = 0\n",
        "\n",
        "for i in range(epochs):\n",
        "  pred = (input_data * weights).sum()\n",
        "\n",
        "  error = pred - target\n",
        "\n",
        "  mse_hist.append(error)\n",
        "\n",
        "  slope = 2 * input_data * error\n",
        "\n",
        "  weights = weights - learning_rate * slope"
      ],
      "metadata": {
        "id": "Ox6hHw0Pfter"
      },
      "execution_count": 26,
      "outputs": []
    },
    {
      "cell_type": "code",
      "source": [
        "import matplotlib.pyplot as plt\n",
        "\n",
        "plt.style.use('seaborn-whitegrid')\n",
        "\n",
        "plt.plot([*range(epochs)], mse_hist, marker='x')\n",
        "plt.xlabel(\"epoch\")\n",
        "plt.ylabel(\"error rate\")\n",
        "plt.title(\"error rate per epoch\")\n",
        "plt.show()"
      ],
      "metadata": {
        "colab": {
          "base_uri": "https://localhost:8080/",
          "height": 291
        },
        "id": "pdqtDm4mgsH7",
        "outputId": "8fb0cf2c-7393-4c8c-8400-ae66dd6f5695"
      },
      "execution_count": 27,
      "outputs": [
        {
          "output_type": "display_data",
          "data": {
            "text/plain": [
              "<Figure size 432x288 with 1 Axes>"
            ],
            "image/png": "[encoded data removed]"
          },
          "metadata": {}
        }
      ]
    }
  ]
}